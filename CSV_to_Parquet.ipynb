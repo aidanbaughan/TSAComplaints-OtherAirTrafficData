{
  "nbformat": 4,
  "nbformat_minor": 0,
  "metadata": {
    "colab": {
      "provenance": [],
      "include_colab_link": true
    },
    "kernelspec": {
      "name": "python3",
      "display_name": "Python 3"
    },
    "language_info": {
      "name": "python"
    }
  },
  "cells": [
    {
      "cell_type": "markdown",
      "metadata": {
        "id": "view-in-github",
        "colab_type": "text"
      },
      "source": [
        "<a href=\"https://colab.research.google.com/github/aidanbaughan/TSAComplaints-OtherAirTrafficData/blob/main/CSV_to_Parquet.ipynb\" target=\"_parent\"><img src=\"https://colab.research.google.com/assets/colab-badge.svg\" alt=\"Open In Colab\"/></a>"
      ]
    },
    {
      "cell_type": "code",
      "execution_count": null,
      "metadata": {
        "id": "INFdjkXgNoB_"
      },
      "outputs": [],
      "source": [
        "import duckdb\n",
        "\n",
        "def csv_to_parquet(csv_file: str, parquet_file: str):\n",
        "    \"\"\"\n",
        "    Converts a CSV file to Parquet format using DuckDB.\n",
        "\n",
        "    :param csv_file: Path to the input CSV file.\n",
        "    :param parquet_file: Path to the output Parquet file.\n",
        "    \"\"\"\n",
        "    conn = duckdb.connect(\":memory:\")  # Use an in-memory database\n",
        "    conn.execute(f\"COPY (SELECT * FROM read_csv_auto('{csv_file}')) TO '{parquet_file}' (FORMAT 'parquet')\")\n",
        "    conn.close()\n",
        "    print(f\"Converted {csv_file} to {parquet_file}\")\n",
        "\n",
        "# Example usage\n",
        "csv_to_parquet(\"my_data.csv\", \"output.parquet\")\n"
      ]
    }
  ]
}